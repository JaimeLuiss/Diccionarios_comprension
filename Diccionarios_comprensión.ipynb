{
  "nbformat": 4,
  "nbformat_minor": 0,
  "metadata": {
    "colab": {
      "provenance": []
    },
    "kernelspec": {
      "name": "python3",
      "display_name": "Python 3"
    },
    "language_info": {
      "name": "python"
    }
  },
  "cells": [
    {
      "cell_type": "markdown",
      "source": [
        "##Diccionarios por comprensión"
      ],
      "metadata": {
        "id": "Gjq6B1J-hK5F"
      }
    },
    {
      "cell_type": "code",
      "source": [
        "Productos={'papas':1300,'jugos':1800,'helados':2300,'dulces':800,'leche':4200}\n",
        "Operación={x:y*1.19 for (x,y) in Productos.items()}\n",
        "print(f'El precio sin IVA de los productos es: {Productos}')\n",
        "print('▲▼'*60)\n",
        "print(f'El precio con IVA de los productos es: {Operación}')"
      ],
      "metadata": {
        "colab": {
          "base_uri": "https://localhost:8080/"
        },
        "id": "kyoCsmMkk7HP",
        "outputId": "c427a660-b099-49c7-a3dc-15cc47e8a554"
      },
      "execution_count": 36,
      "outputs": [
        {
          "output_type": "stream",
          "name": "stdout",
          "text": [
            "El precio sin IVA de los productos es: {'papas': 1300, 'jugos': 1800, 'helados': 2300, 'dulces': 800, 'leche': 4200}\n",
            "▲▼▲▼▲▼▲▼▲▼▲▼▲▼▲▼▲▼▲▼▲▼▲▼▲▼▲▼▲▼▲▼▲▼▲▼▲▼▲▼▲▼▲▼▲▼▲▼▲▼▲▼▲▼▲▼▲▼▲▼▲▼▲▼▲▼▲▼▲▼▲▼▲▼▲▼▲▼▲▼▲▼▲▼▲▼▲▼▲▼▲▼▲▼▲▼▲▼▲▼▲▼▲▼▲▼▲▼▲▼▲▼▲▼▲▼▲▼▲▼\n",
            "El precio con IVA de los productos es: {'papas': 1547.0, 'jugos': 2142.0, 'helados': 2737.0, 'dulces': 952.0, 'leche': 4998.0}\n"
          ]
        }
      ]
    }
  ]
}